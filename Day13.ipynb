{
 "cells": [
  {
   "cell_type": "code",
   "execution_count": null,
   "metadata": {},
   "outputs": [],
   "source": [
    "#Introduction to Functions in Python:\n",
    "\n",
    "#Understanding the concept of code-reusability:"
   ]
  },
  {
   "cell_type": "code",
   "execution_count": null,
   "metadata": {},
   "outputs": [],
   "source": [
    "#How to define a function ====> 'def' is the keyword used to define function\n",
    "#Always use small case letters while declaring the function name\n",
    "#Example: def fun()"
   ]
  },
  {
   "cell_type": "code",
   "execution_count": null,
   "metadata": {},
   "outputs": [],
   "source": [
    "#req: create a greeting function"
   ]
  },
  {
   "cell_type": "code",
   "execution_count": 1,
   "metadata": {},
   "outputs": [],
   "source": [
    "def greet(): #declaring/defining a function\n",
    "    \"\"\"creating a greeting function\"\"\" #doc-string: used for commenting inside the function\n",
    "    print(\"Ya Allah\")"
   ]
  },
  {
   "cell_type": "code",
   "execution_count": 2,
   "metadata": {},
   "outputs": [
    {
     "name": "stdout",
     "output_type": "stream",
     "text": [
      "Ya Allah\n"
     ]
    }
   ],
   "source": [
    "greet() #function call/Calling a function"
   ]
  },
  {
   "cell_type": "code",
   "execution_count": null,
   "metadata": {},
   "outputs": [],
   "source": [
    "#req: Create a function to greet the user"
   ]
  },
  {
   "cell_type": "code",
   "execution_count": 3,
   "metadata": {},
   "outputs": [],
   "source": [
    "def greet_user(user):\n",
    "    \"\"\"creating a greeting function for user\"\"\"\n",
    "    print(f\"Assalamualikum, {user}!\")"
   ]
  },
  {
   "cell_type": "code",
   "execution_count": 5,
   "metadata": {},
   "outputs": [
    {
     "name": "stdout",
     "output_type": "stream",
     "text": [
      "Assalamualikum, Waheed!\n"
     ]
    }
   ],
   "source": [
    "greet_user('Waheed')"
   ]
  },
  {
   "cell_type": "code",
   "execution_count": null,
   "metadata": {},
   "outputs": [],
   "source": [
    "#Introduction to Types of Arguments:\n",
    "\n",
    "#1. Positional Arguments\n",
    "#2. Keyword Arguments\n",
    "#3. Default Arguments\n",
    "#4. Arbitary Arguments"
   ]
  },
  {
   "cell_type": "code",
   "execution_count": null,
   "metadata": {},
   "outputs": [],
   "source": [
    "#req: create a function say as describe_pet which takes two parameters such as animal_type and pet_name."
   ]
  },
  {
   "cell_type": "code",
   "execution_count": 9,
   "metadata": {},
   "outputs": [],
   "source": [
    "def describe_pet(animal_type, pet_name): #function declation/defining with two parameters\n",
    "    \"\"\"creating a fun to discribe the animals\"\"\"\n",
    "    print(f\"I have a {animal_type}.\")\n",
    "    print(f\"\\nMy {animal_type}'s name is {pet_name}.\")"
   ]
  },
  {
   "cell_type": "code",
   "execution_count": 10,
   "metadata": {},
   "outputs": [
    {
     "name": "stdout",
     "output_type": "stream",
     "text": [
      "I have a Cat.\n",
      "\n",
      "My Cat's name is Milan.\n"
     ]
    }
   ],
   "source": [
    "describe_pet('Cat', 'Milan') #function call with two passing arguments"
   ]
  },
  {
   "cell_type": "code",
   "execution_count": 11,
   "metadata": {},
   "outputs": [
    {
     "name": "stdout",
     "output_type": "stream",
     "text": [
      "I have a Tiger.\n",
      "\n",
      "My Tiger's name is Sultan.\n"
     ]
    }
   ],
   "source": [
    "describe_pet('Tiger', 'Sultan') "
   ]
  },
  {
   "cell_type": "code",
   "execution_count": 12,
   "metadata": {},
   "outputs": [
    {
     "name": "stdout",
     "output_type": "stream",
     "text": [
      "I have a Sultan.\n",
      "\n",
      "My Sultan's name is Tiger.\n"
     ]
    }
   ],
   "source": [
    "describe_pet('Sultan', 'Tiger') #positional argument: we need to pass the correct arguments value,\n",
    "                                #by default argument type is positional"
   ]
  },
  {
   "cell_type": "code",
   "execution_count": 13,
   "metadata": {},
   "outputs": [
    {
     "name": "stdout",
     "output_type": "stream",
     "text": [
      "I have a Tiger.\n",
      "\n",
      "My Tiger's name is Sultan.\n"
     ]
    }
   ],
   "source": [
    "describe_pet(pet_name ='Sultan',animal_type = 'Tiger') #Keyword argument: by parameter keyword we can pass arguments"
   ]
  },
  {
   "cell_type": "code",
   "execution_count": null,
   "metadata": {},
   "outputs": [],
   "source": []
  }
 ],
 "metadata": {
  "kernelspec": {
   "display_name": "Python 3",
   "language": "python",
   "name": "python3"
  },
  "language_info": {
   "codemirror_mode": {
    "name": "ipython",
    "version": 3
   },
   "file_extension": ".py",
   "mimetype": "text/x-python",
   "name": "python",
   "nbconvert_exporter": "python",
   "pygments_lexer": "ipython3",
   "version": "3.8.3"
  }
 },
 "nbformat": 4,
 "nbformat_minor": 4
}
