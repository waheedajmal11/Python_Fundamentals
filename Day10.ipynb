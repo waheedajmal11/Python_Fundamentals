{
 "cells": [
  {
   "cell_type": "code",
   "execution_count": null,
   "metadata": {},
   "outputs": [],
   "source": [
    "#Continuation on dictionary"
   ]
  },
  {
   "cell_type": "code",
   "execution_count": 1,
   "metadata": {},
   "outputs": [],
   "source": [
    "user = {'username':'waheedajmal11','firstname':'waheed','lastname':'ajmal','DOB':'01-01-2000','password':'0987654321'}"
   ]
  },
  {
   "cell_type": "code",
   "execution_count": 2,
   "metadata": {},
   "outputs": [
    {
     "name": "stdout",
     "output_type": "stream",
     "text": [
      "{'username': 'waheedajmal11', 'firstname': 'waheed', 'lastname': 'ajmal', 'DOB': '01-01-2000', 'password': '0987654321'}\n"
     ]
    }
   ],
   "source": [
    "print(user)"
   ]
  },
  {
   "cell_type": "code",
   "execution_count": null,
   "metadata": {},
   "outputs": [],
   "source": [
    "#How to implement a for loop on  top of dict\n",
    "\n",
    "#Syntax of for loop:\n",
    "\n",
    "for tempvar in mainvar:\n",
    "    print(tempvar)"
   ]
  },
  {
   "cell_type": "code",
   "execution_count": 4,
   "metadata": {},
   "outputs": [
    {
     "name": "stdout",
     "output_type": "stream",
     "text": [
      "username\n",
      "waheedajmal11\n",
      "firstname\n",
      "waheed\n",
      "lastname\n",
      "ajmal\n",
      "DOB\n",
      "01-01-2000\n",
      "password\n",
      "0987654321\n"
     ]
    }
   ],
   "source": [
    "for k,v in user.items():\n",
    "    print(k)\n",
    "    print(v)"
   ]
  },
  {
   "cell_type": "code",
   "execution_count": null,
   "metadata": {},
   "outputs": [],
   "source": [
    "#enhancement of code"
   ]
  },
  {
   "cell_type": "code",
   "execution_count": 7,
   "metadata": {},
   "outputs": [
    {
     "name": "stdout",
     "output_type": "stream",
     "text": [
      "key: username\n",
      "value: waheedajmal11\n",
      "\n",
      "key: firstname\n",
      "value: waheed\n",
      "\n",
      "key: lastname\n",
      "value: ajmal\n",
      "\n",
      "key: DOB\n",
      "value: 01-01-2000\n",
      "\n",
      "key: password\n",
      "value: 0987654321\n",
      "\n"
     ]
    }
   ],
   "source": [
    "for k,v in user.items():\n",
    "    print(f\"key: {k}\")\n",
    "    print(f\"value: {v}\\n\")"
   ]
  },
  {
   "cell_type": "code",
   "execution_count": 8,
   "metadata": {},
   "outputs": [
    {
     "name": "stdout",
     "output_type": "stream",
     "text": [
      "key: username\n",
      "key: firstname\n",
      "key: lastname\n",
      "key: DOB\n",
      "key: password\n"
     ]
    }
   ],
   "source": [
    "#req: display only keys\n",
    "\n",
    "for x in user.keys():\n",
    "    print(f\"key: {x}\")"
   ]
  },
  {
   "cell_type": "code",
   "execution_count": 9,
   "metadata": {},
   "outputs": [
    {
     "name": "stdout",
     "output_type": "stream",
     "text": [
      "key: waheedajmal11\n",
      "key: waheed\n",
      "key: ajmal\n",
      "key: 01-01-2000\n",
      "key: 0987654321\n"
     ]
    }
   ],
   "source": [
    "#req: display only values\n",
    "\n",
    "for x in user.values():\n",
    "    print(f\"key: {x}\")"
   ]
  },
  {
   "cell_type": "code",
   "execution_count": null,
   "metadata": {},
   "outputs": [],
   "source": []
  }
 ],
 "metadata": {
  "kernelspec": {
   "display_name": "Python 3",
   "language": "python",
   "name": "python3"
  },
  "language_info": {
   "codemirror_mode": {
    "name": "ipython",
    "version": 3
   },
   "file_extension": ".py",
   "mimetype": "text/x-python",
   "name": "python",
   "nbconvert_exporter": "python",
   "pygments_lexer": "ipython3",
   "version": "3.8.3"
  }
 },
 "nbformat": 4,
 "nbformat_minor": 4
}
