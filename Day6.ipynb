{
 "cells": [
  {
   "cell_type": "code",
   "execution_count": 45,
   "metadata": {},
   "outputs": [],
   "source": [
    "students = ['Waheed','Musavir','Nafees','Suhaib','Abrar','Sufiyan','Fazal','Wajid','Farhan']"
   ]
  },
  {
   "cell_type": "code",
   "execution_count": 46,
   "metadata": {},
   "outputs": [
    {
     "name": "stdout",
     "output_type": "stream",
     "text": [
      "['Waheed', 'Musavir', 'Nafees', 'Suhaib', 'Abrar', 'Sufiyan', 'Fazal', 'Wajid', 'Farhan']\n"
     ]
    }
   ],
   "source": [
    "print(students) #list before sorting"
   ]
  },
  {
   "cell_type": "code",
   "execution_count": 47,
   "metadata": {},
   "outputs": [],
   "source": [
    "#req: organise the list in alphabetical order. A-Z\n",
    "\n",
    "#2 posible ways:\n",
    "    \n",
    "#    1.Temp way of approch/doing\n",
    " #   2.Permanet way"
   ]
  },
  {
   "cell_type": "code",
   "execution_count": 48,
   "metadata": {},
   "outputs": [
    {
     "name": "stdout",
     "output_type": "stream",
     "text": [
      "['Abrar', 'Farhan', 'Fazal', 'Musavir', 'Nafees', 'Sufiyan', 'Suhaib', 'Waheed', 'Wajid']\n"
     ]
    }
   ],
   "source": [
    "# Temp approch:\n",
    "\n",
    "print(sorted(students)) # List after sorting in temp way"
   ]
  },
  {
   "cell_type": "code",
   "execution_count": 49,
   "metadata": {},
   "outputs": [
    {
     "name": "stdout",
     "output_type": "stream",
     "text": [
      "['Waheed', 'Musavir', 'Nafees', 'Suhaib', 'Abrar', 'Sufiyan', 'Fazal', 'Wajid', 'Farhan']\n"
     ]
    }
   ],
   "source": [
    "print(students) # list is in same order as before as we did the temp way of sort"
   ]
  },
  {
   "cell_type": "code",
   "execution_count": 50,
   "metadata": {},
   "outputs": [],
   "source": [
    "#Permanent Approch: changes are permanent here it will sort to the list itself\n",
    "\n",
    "students.sort()"
   ]
  },
  {
   "cell_type": "code",
   "execution_count": 51,
   "metadata": {},
   "outputs": [
    {
     "name": "stdout",
     "output_type": "stream",
     "text": [
      "['Abrar', 'Farhan', 'Fazal', 'Musavir', 'Nafees', 'Sufiyan', 'Suhaib', 'Waheed', 'Wajid']\n"
     ]
    }
   ],
   "source": [
    "print(students) #displaying the list after sorting through permanent way"
   ]
  },
  {
   "cell_type": "code",
   "execution_count": 52,
   "metadata": {},
   "outputs": [],
   "source": [
    "# Differewnce between sorted and sort method and which to use when\n",
    "\n",
    "#sorted(): it is used for temp way of display as it will not modify the original list. ex: print(sorted(students))\n",
    "\n",
    "#sort(): it will be used for permanent way of sorting the list, as it will make changes to original list. ex: students.sort()"
   ]
  },
  {
   "cell_type": "code",
   "execution_count": null,
   "metadata": {},
   "outputs": [],
   "source": []
  },
  {
   "cell_type": "code",
   "execution_count": 53,
   "metadata": {},
   "outputs": [
    {
     "data": {
      "text/plain": [
       "9"
      ]
     },
     "execution_count": 53,
     "metadata": {},
     "output_type": "execute_result"
    }
   ],
   "source": [
    "# How to count the no of elements present in list\n",
    "\n",
    "#len(): is used to count the no of elements present in list\n",
    "\n",
    "len(students)"
   ]
  },
  {
   "cell_type": "code",
   "execution_count": 54,
   "metadata": {},
   "outputs": [
    {
     "name": "stdout",
     "output_type": "stream",
     "text": [
      "['Abrar', 'Farhan', 'Fazal', 'Musavir', 'Nafees', 'Sufiyan', 'Suhaib', 'Waheed', 'Wajid']\n"
     ]
    }
   ],
   "source": [
    "print(students)"
   ]
  },
  {
   "cell_type": "code",
   "execution_count": null,
   "metadata": {},
   "outputs": [],
   "source": []
  },
  {
   "cell_type": "code",
   "execution_count": 55,
   "metadata": {},
   "outputs": [],
   "source": [
    "#How to print the elements in reverse order.\n",
    "\n",
    "#reverse() is used to reverse the elements of the list."
   ]
  },
  {
   "cell_type": "code",
   "execution_count": 56,
   "metadata": {},
   "outputs": [],
   "source": [
    "students.reverse() #reversing the elements"
   ]
  },
  {
   "cell_type": "code",
   "execution_count": 57,
   "metadata": {},
   "outputs": [
    {
     "name": "stdout",
     "output_type": "stream",
     "text": [
      "['Wajid', 'Waheed', 'Suhaib', 'Sufiyan', 'Nafees', 'Musavir', 'Fazal', 'Farhan', 'Abrar']\n"
     ]
    }
   ],
   "source": [
    "print(students)  #printing the list after reverse"
   ]
  },
  {
   "cell_type": "code",
   "execution_count": null,
   "metadata": {},
   "outputs": [],
   "source": []
  },
  {
   "cell_type": "code",
   "execution_count": 58,
   "metadata": {},
   "outputs": [],
   "source": [
    "#Introduction to negetive indexing...."
   ]
  },
  {
   "cell_type": "code",
   "execution_count": 59,
   "metadata": {},
   "outputs": [
    {
     "name": "stdout",
     "output_type": "stream",
     "text": [
      "Abrar\n"
     ]
    }
   ],
   "source": [
    "#print Abrar\n",
    "print(students[8])"
   ]
  },
  {
   "cell_type": "code",
   "execution_count": 60,
   "metadata": {},
   "outputs": [
    {
     "name": "stdout",
     "output_type": "stream",
     "text": [
      "Abrar\n"
     ]
    }
   ],
   "source": [
    "#Implimentation of negetive indexing:\n",
    "\n",
    "print(students[-1])"
   ]
  },
  {
   "cell_type": "code",
   "execution_count": 61,
   "metadata": {},
   "outputs": [
    {
     "name": "stdout",
     "output_type": "stream",
     "text": [
      "Sufiyan\n"
     ]
    }
   ],
   "source": [
    "#print Sufiyan\n",
    "\n",
    "print(students[-6])"
   ]
  },
  {
   "cell_type": "code",
   "execution_count": 62,
   "metadata": {},
   "outputs": [
    {
     "name": "stdout",
     "output_type": "stream",
     "text": [
      "Wajid\n"
     ]
    }
   ],
   "source": [
    "# print Wajid\n",
    "\n",
    "print(students[-9])"
   ]
  },
  {
   "cell_type": "code",
   "execution_count": null,
   "metadata": {},
   "outputs": [],
   "source": []
  },
  {
   "cell_type": "code",
   "execution_count": 63,
   "metadata": {},
   "outputs": [
    {
     "name": "stdout",
     "output_type": "stream",
     "text": [
      "['Wajid', 'Waheed', 'Suhaib', 'Sufiyan', 'Nafees', 'Musavir', 'Fazal', 'Farhan', 'Abrar']\n"
     ]
    }
   ],
   "source": [
    "print(students)"
   ]
  },
  {
   "cell_type": "code",
   "execution_count": 64,
   "metadata": {},
   "outputs": [],
   "source": [
    "#Slicing of list data type\n",
    "\n",
    "#General Syntax:   listname[startvalue:stopvalue:stepcount]\n",
    "\n",
    "#Note: *stop value is always exclusive at the time of printing"
   ]
  },
  {
   "cell_type": "code",
   "execution_count": 65,
   "metadata": {},
   "outputs": [
    {
     "name": "stdout",
     "output_type": "stream",
     "text": [
      "['Wajid']\n"
     ]
    }
   ],
   "source": [
    "print(students[0:1])"
   ]
  },
  {
   "cell_type": "code",
   "execution_count": 66,
   "metadata": {},
   "outputs": [
    {
     "name": "stdout",
     "output_type": "stream",
     "text": [
      "['Wajid', 'Waheed', 'Suhaib', 'Sufiyan']\n"
     ]
    }
   ],
   "source": [
    "print(students[0:4])"
   ]
  },
  {
   "cell_type": "code",
   "execution_count": null,
   "metadata": {},
   "outputs": [],
   "source": []
  }
 ],
 "metadata": {
  "kernelspec": {
   "display_name": "Python 3",
   "language": "python",
   "name": "python3"
  },
  "language_info": {
   "codemirror_mode": {
    "name": "ipython",
    "version": 3
   },
   "file_extension": ".py",
   "mimetype": "text/x-python",
   "name": "python",
   "nbconvert_exporter": "python",
   "pygments_lexer": "ipython3",
   "version": "3.8.3"
  }
 },
 "nbformat": 4,
 "nbformat_minor": 4
}
