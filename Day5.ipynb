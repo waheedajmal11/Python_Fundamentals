{
 "cells": [
  {
   "cell_type": "code",
   "execution_count": 1,
   "metadata": {},
   "outputs": [],
   "source": [
    "students = ['Waheed','Musavir','Nafees','Suhaib','Abrar','Sufiyan']"
   ]
  },
  {
   "cell_type": "code",
   "execution_count": 2,
   "metadata": {},
   "outputs": [
    {
     "name": "stdout",
     "output_type": "stream",
     "text": [
      "['Waheed', 'Musavir', 'Nafees', 'Suhaib', 'Abrar', 'Sufiyan']\n"
     ]
    }
   ],
   "source": [
    "print(students)"
   ]
  },
  {
   "cell_type": "code",
   "execution_count": 3,
   "metadata": {},
   "outputs": [
    {
     "data": {
      "text/plain": [
       "list"
      ]
     },
     "execution_count": 3,
     "metadata": {},
     "output_type": "execute_result"
    }
   ],
   "source": [
    "type(students)"
   ]
  },
  {
   "cell_type": "code",
   "execution_count": null,
   "metadata": {},
   "outputs": [],
   "source": [
    "#req: to appreciate the list of students above."
   ]
  },
  {
   "cell_type": "code",
   "execution_count": 6,
   "metadata": {},
   "outputs": [
    {
     "name": "stdout",
     "output_type": "stream",
     "text": [
      "Keep up the good work, Waheed\n"
     ]
    }
   ],
   "source": [
    "print(f\"Keep up the good work, {students[0]}\")"
   ]
  },
  {
   "cell_type": "code",
   "execution_count": 7,
   "metadata": {},
   "outputs": [
    {
     "name": "stdout",
     "output_type": "stream",
     "text": [
      "Keep up the good work, Musavir\n"
     ]
    }
   ],
   "source": [
    "print(f\"Keep up the good work, {students[1]}\")"
   ]
  },
  {
   "cell_type": "code",
   "execution_count": null,
   "metadata": {},
   "outputs": [],
   "source": [
    "#Introduction to for loops:\n",
    "#General syntax:\n",
    "#temp_variable we will be creating in for loog itself.\n",
    "\n",
    "for tempvar in mainvar:\n",
    "    print(tempvar) #the space in starting of line is called \"Indentation\""
   ]
  },
  {
   "cell_type": "code",
   "execution_count": 8,
   "metadata": {},
   "outputs": [
    {
     "name": "stdout",
     "output_type": "stream",
     "text": [
      "Waheed\n",
      "Musavir\n",
      "Nafees\n",
      "Suhaib\n",
      "Abrar\n",
      "Sufiyan\n"
     ]
    }
   ],
   "source": [
    "#imlimentation of for loop:\n",
    "\n",
    "for x in students:\n",
    "    print(x)"
   ]
  },
  {
   "cell_type": "code",
   "execution_count": 11,
   "metadata": {},
   "outputs": [
    {
     "name": "stdout",
     "output_type": "stream",
     "text": [
      "Keep up the good work, Waheed\n",
      "Keep up the good work, Musavir\n",
      "Keep up the good work, Nafees\n",
      "Keep up the good work, Suhaib\n",
      "Keep up the good work, Abrar\n",
      "Keep up the good work, Sufiyan\n"
     ]
    }
   ],
   "source": [
    "#Enhancement of for loop:\n",
    "\n",
    "for x in students:\n",
    "    print(f\"Keep up the good work, {x}\")   #apptriciating all the students at once"
   ]
  },
  {
   "cell_type": "code",
   "execution_count": 12,
   "metadata": {},
   "outputs": [
    {
     "name": "stdout",
     "output_type": "stream",
     "text": [
      "Keep up the good work, Waheed\n",
      "looking forward to receive your file of today, Waheed\n",
      "Keep up the good work, Musavir\n",
      "looking forward to receive your file of today, Musavir\n",
      "Keep up the good work, Nafees\n",
      "looking forward to receive your file of today, Nafees\n",
      "Keep up the good work, Suhaib\n",
      "looking forward to receive your file of today, Suhaib\n",
      "Keep up the good work, Abrar\n",
      "looking forward to receive your file of today, Abrar\n",
      "Keep up the good work, Sufiyan\n",
      "looking forward to receive your file of today, Sufiyan\n"
     ]
    }
   ],
   "source": [
    "for x in students:\n",
    "    print(f\"Keep up the good work, {x}\")\n",
    "    print(f\"looking forward to receive your file of today, {x}\")"
   ]
  },
  {
   "cell_type": "code",
   "execution_count": 13,
   "metadata": {},
   "outputs": [
    {
     "name": "stdout",
     "output_type": "stream",
     "text": [
      "Keep up the good work, Waheed\n",
      "looking forward to receive your file of today, Waheed.\n",
      "\n",
      "Keep up the good work, Musavir\n",
      "looking forward to receive your file of today, Musavir.\n",
      "\n",
      "Keep up the good work, Nafees\n",
      "looking forward to receive your file of today, Nafees.\n",
      "\n",
      "Keep up the good work, Suhaib\n",
      "looking forward to receive your file of today, Suhaib.\n",
      "\n",
      "Keep up the good work, Abrar\n",
      "looking forward to receive your file of today, Abrar.\n",
      "\n",
      "Keep up the good work, Sufiyan\n",
      "looking forward to receive your file of today, Sufiyan.\n",
      "\n"
     ]
    }
   ],
   "source": [
    "for x in students:\n",
    "    print(f\"Keep up the good work, {x}\")\n",
    "    print(f\"looking forward to receive your file of today, {x}.\\n\")"
   ]
  },
  {
   "cell_type": "code",
   "execution_count": 14,
   "metadata": {},
   "outputs": [
    {
     "name": "stdout",
     "output_type": "stream",
     "text": [
      "Keep up the good work, Waheed\n",
      "looking forward to receive your file of today, Waheed.\n",
      "\n",
      "Keep up the good work, Musavir\n",
      "looking forward to receive your file of today, Musavir.\n",
      "\n",
      "Keep up the good work, Nafees\n",
      "looking forward to receive your file of today, Nafees.\n",
      "\n",
      "Keep up the good work, Suhaib\n",
      "looking forward to receive your file of today, Suhaib.\n",
      "\n",
      "Keep up the good work, Abrar\n",
      "looking forward to receive your file of today, Abrar.\n",
      "\n",
      "Keep up the good work, Sufiyan\n",
      "looking forward to receive your file of today, Sufiyan.\n",
      "\n",
      "Thank you all for showing interest in lerning Python\n"
     ]
    }
   ],
   "source": [
    "for x in students:\n",
    "    print(f\"Keep up the good work, {x}\")\n",
    "    print(f\"looking forward to receive your file of today, {x}.\\n\")\n",
    "    \n",
    "print(\"Thank you all for showing interest in lerning Python\")"
   ]
  },
  {
   "cell_type": "code",
   "execution_count": null,
   "metadata": {},
   "outputs": [],
   "source": []
  }
 ],
 "metadata": {
  "kernelspec": {
   "display_name": "Python 3",
   "language": "python",
   "name": "python3"
  },
  "language_info": {
   "codemirror_mode": {
    "name": "ipython",
    "version": 3
   },
   "file_extension": ".py",
   "mimetype": "text/x-python",
   "name": "python",
   "nbconvert_exporter": "python",
   "pygments_lexer": "ipython3",
   "version": "3.8.3"
  }
 },
 "nbformat": 4,
 "nbformat_minor": 4
}
