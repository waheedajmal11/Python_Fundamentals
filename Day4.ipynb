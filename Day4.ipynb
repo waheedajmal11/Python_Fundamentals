{
 "cells": [
  {
   "cell_type": "code",
   "execution_count": null,
   "metadata": {},
   "outputs": [],
   "source": [
    "#Introduction to List Datatype:\n",
    "\n",
    "Defination: A list is an collection of items in a particular order.\n",
    "\n",
    "Classification : A list is Classified as an mutable datatype\n",
    "\n",
    "How to define the list : by using [] square brackets."
   ]
  },
  {
   "cell_type": "code",
   "execution_count": 1,
   "metadata": {},
   "outputs": [],
   "source": [
    "students = ['Waheed','Musavir','Nafees','Suhaib','Abrar','Sufiyan']"
   ]
  },
  {
   "cell_type": "code",
   "execution_count": 2,
   "metadata": {},
   "outputs": [
    {
     "name": "stdout",
     "output_type": "stream",
     "text": [
      "['Waheed', 'Musavir', 'Nafees', 'Suhaib', 'Abrar', 'Sufiyan']\n"
     ]
    }
   ],
   "source": [
    "print(students)"
   ]
  },
  {
   "cell_type": "code",
   "execution_count": 4,
   "metadata": {},
   "outputs": [
    {
     "data": {
      "text/plain": [
       "list"
      ]
     },
     "execution_count": 4,
     "metadata": {},
     "output_type": "execute_result"
    }
   ],
   "source": [
    "type(students) # by using Type Method we can able to verify abd validate datatype of a variable defined."
   ]
  },
  {
   "cell_type": "code",
   "execution_count": null,
   "metadata": {},
   "outputs": [],
   "source": [
    "Understanding the concept of Indexing:\n",
    "\n",
    "0,1,2,3......"
   ]
  },
  {
   "cell_type": "code",
   "execution_count": null,
   "metadata": {},
   "outputs": [],
   "source": [
    "#req: accessing Nafees from list"
   ]
  },
  {
   "cell_type": "code",
   "execution_count": 5,
   "metadata": {},
   "outputs": [
    {
     "name": "stdout",
     "output_type": "stream",
     "text": [
      "Nafees\n"
     ]
    }
   ],
   "source": [
    "print(students[2])"
   ]
  },
  {
   "cell_type": "code",
   "execution_count": 6,
   "metadata": {},
   "outputs": [
    {
     "name": "stdout",
     "output_type": "stream",
     "text": [
      "Musavir\n"
     ]
    }
   ],
   "source": [
    "#req: accessing Musavir from list\n",
    "\n",
    "print(students[1])"
   ]
  },
  {
   "cell_type": "code",
   "execution_count": 7,
   "metadata": {},
   "outputs": [
    {
     "name": "stdout",
     "output_type": "stream",
     "text": [
      "['Waheed', 'Musavir', 'Nafees', 'Suhaib', 'Abrar', 'Sufiyan']\n"
     ]
    }
   ],
   "source": [
    "#Append Method: Append Method will be adding the elemnt to the last position in the list\n",
    "\n",
    "print(students) #displaying list before adding the element"
   ]
  },
  {
   "cell_type": "code",
   "execution_count": 8,
   "metadata": {},
   "outputs": [],
   "source": [
    "#req1: Add Nayeem to list of students\n",
    "\n",
    "students.append('Nayeem')"
   ]
  },
  {
   "cell_type": "code",
   "execution_count": 9,
   "metadata": {},
   "outputs": [
    {
     "name": "stdout",
     "output_type": "stream",
     "text": [
      "['Waheed', 'Musavir', 'Nafees', 'Suhaib', 'Abrar', 'Sufiyan', 'Nayeem']\n"
     ]
    }
   ],
   "source": [
    "print(students) #displaying the list after adding the element to list"
   ]
  },
  {
   "cell_type": "code",
   "execution_count": 10,
   "metadata": {},
   "outputs": [],
   "source": [
    "#req2: Modifying the existing students from the list. Sufiyan----> Fazal\n",
    "\n",
    "students[5]='Fazal'"
   ]
  },
  {
   "cell_type": "code",
   "execution_count": 11,
   "metadata": {},
   "outputs": [
    {
     "name": "stdout",
     "output_type": "stream",
     "text": [
      "['Waheed', 'Musavir', 'Nafees', 'Suhaib', 'Abrar', 'Fazal', 'Nayeem']\n"
     ]
    }
   ],
   "source": [
    "print(students) #displaying the list after modifying the element existing element to list"
   ]
  },
  {
   "cell_type": "code",
   "execution_count": null,
   "metadata": {},
   "outputs": [],
   "source": [
    "del Method: it is used to delete the element from list"
   ]
  },
  {
   "cell_type": "code",
   "execution_count": 12,
   "metadata": {},
   "outputs": [],
   "source": [
    "#req3: Delete student Suhaib from list\n",
    "\n",
    "del students[3]"
   ]
  },
  {
   "cell_type": "code",
   "execution_count": 13,
   "metadata": {},
   "outputs": [
    {
     "name": "stdout",
     "output_type": "stream",
     "text": [
      "['Waheed', 'Musavir', 'Nafees', 'Abrar', 'Fazal', 'Nayeem']\n"
     ]
    }
   ],
   "source": [
    "print(students) #displaying list after deleting the element"
   ]
  },
  {
   "cell_type": "code",
   "execution_count": null,
   "metadata": {},
   "outputs": [],
   "source": []
  }
 ],
 "metadata": {
  "kernelspec": {
   "display_name": "Python 3",
   "language": "python",
   "name": "python3"
  },
  "language_info": {
   "codemirror_mode": {
    "name": "ipython",
    "version": 3
   },
   "file_extension": ".py",
   "mimetype": "text/x-python",
   "name": "python",
   "nbconvert_exporter": "python",
   "pygments_lexer": "ipython3",
   "version": "3.8.3"
  }
 },
 "nbformat": 4,
 "nbformat_minor": 4
}
